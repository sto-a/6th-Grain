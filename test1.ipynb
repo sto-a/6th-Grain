{
 "cells": [
  {
   "cell_type": "code",
   "execution_count": 1,
   "metadata": {},
   "outputs": [],
   "source": [
    "import os\n",
    "import rasterio\n",
    "import xmltodict\n",
    "import numpy as np\n",
    "from os import environ\n",
    "environ[\"OPENCV_IO_ENABLE_JASPER\"] = \"true\"\n",
    "import cv2 \n",
    "from rasterio.features import rasterize\n",
    "\n",
    "import matplotlib.pyplot as plt\n",
    "%matplotlib inline\n",
    "\n",
    "jp2_root = './test/S2A_MSIL2A_20190613T135121_N9999_R024_T21LZD_20210602T011127.SAFE/GRANULE/L2A_T21LZD_A020756_20190613T135115/IMG_DATA/R20m'\n",
    "def jp2_files():\n",
    "    for idx in ['B02', 'B03', 'B04', 'B05', 'B06', 'B07', 'B8A']: # 'B08' - файл отсутствует, 'B08A' - файл отсутствует заменил на B8A\n",
    "        yield os.path.join(jp2_root,'T21LZD_20190613T135121_{}_20m.jp2'.format(idx))\n",
    "\n",
    "with open('./test/S2A_MSIL2A_20190613T135121_N9999_R024_T21LZD_20210602T011127.SAFE/GRANULE/L2A_T21LZD_A020756_20190613T135115/QI_DATA/MSK_CLOUDS_B00.gml') as f:\n",
    "    cloud_mask = xmltodict.parse(f.read())\n",
    "        \n",
    "with open('./test/S2A_MSIL2A_20190613T135121_N9999_R024_T21LZD_20210602T011127.SAFE/GRANULE/L2A_T21LZD_A020756_20190613T135115/MTD_TL.xml') as f:\n",
    "    tils = xmltodict.parse(f.read())"
   ]
  },
  {
   "cell_type": "code",
   "execution_count": 2,
   "metadata": {},
   "outputs": [],
   "source": [
    "bands = []\n",
    "for file in jp2_files():\n",
    "    bands.append(cv2.imread(file, cv2.IMREAD_GRAYSCALE))\n",
    "bands = np.stack(bands, axis=2)"
   ]
  },
  {
   "cell_type": "code",
   "execution_count": 3,
   "metadata": {},
   "outputs": [
    {
     "data": {
      "text/plain": [
       "<matplotlib.image.AxesImage at 0x7fefb126fee0>"
      ]
     },
     "execution_count": 3,
     "metadata": {},
     "output_type": "execute_result"
    },
    {
     "data": {
      "image/png": "[encoded data removed]",
      "text/plain": [
       "<Figure size 432x288 with 1 Axes>"
      ]
     },
     "metadata": {
      "needs_background": "light"
     },
     "output_type": "display_data"
    }
   ],
   "source": [
    "cloud_mask = [ item['eop:extentOf']['gml:Polygon']['gml:exterior']['gml:LinearRing']['gml:posList']['#text'] for item in cloud_mask['eop:Mask']['eop:maskMembers']['eop:MaskFeature'] ]\n",
    "cloud_mask = [[int(item) for item in rec.split(' ')] for rec in cloud_mask]\n",
    "shapes = []\n",
    "burnval = 1\n",
    "for item in cloud_mask:\n",
    "    ret_item = []\n",
    "    for i in range(1, len(item), 2):\n",
    "        ret_item.append(((item[i-1] - 799980) / 20 , (8400040 - item[i]) / 20))\n",
    "    d= {\n",
    "    'type': 'Polygon',\n",
    "    'coordinates': [ret_item]\n",
    "}\n",
    "    shapes.append(d)\n",
    "\n",
    "mask = rasterize(shapes, (5490, 5490))\n",
    "plt.imshow(mask)"
   ]
  },
  {
   "cell_type": "code",
   "execution_count": 4,
   "metadata": {},
   "outputs": [
    {
     "name": "stdout",
     "output_type": "stream",
     "text": [
      "(5490, 5490, 7)\n",
      "(5490, 5490)\n"
     ]
    }
   ],
   "source": [
    "print(bands.shape)\n",
    "print(mask.shape)"
   ]
  },
  {
   "cell_type": "code",
   "execution_count": 5,
   "metadata": {},
   "outputs": [],
   "source": [
    "np.save('bands.npy', bands)\n",
    "np.save('mask.npy', mask)"
   ]
  }
 ],
 "metadata": {
  "kernelspec": {
   "display_name": "Python 3",
   "language": "python",
   "name": "python3"
  },
  "language_info": {
   "codemirror_mode": {
    "name": "ipython",
    "version": 3
   },
   "file_extension": ".py",
   "mimetype": "text/x-python",
   "name": "python",
   "nbconvert_exporter": "python",
   "pygments_lexer": "ipython3",
   "version": "3.8.3"
  }
 },
 "nbformat": 4,
 "nbformat_minor": 4
}
